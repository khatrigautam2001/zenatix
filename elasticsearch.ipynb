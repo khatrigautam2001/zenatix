{
  "nbformat": 4,
  "nbformat_minor": 0,
  "metadata": {
    "colab": {
      "name": "elasticsearch.ipynb",
      "provenance": []
    },
    "kernelspec": {
      "name": "python3",
      "display_name": "Python 3"
    },
    "language_info": {
      "name": "python"
    }
  },
  "cells": [
    {
      "cell_type": "code",
      "metadata": {
        "id": "-WN6-l-1ne7o"
      },
      "source": [
        "import time\n",
        "import subprocess\n",
        "from datetime import date, datetime\n",
        "from elasticsearch import Elasticsearch\n",
        "es = Elasticsearch()\n",
        "\n",
        "cmd = \"ps -eo pid,%mem,%cpu\"\n",
        "\n",
        "indexname = \"os-stat-data\"\n",
        "\n",
        "indexname2=\"os-stat-system-data\"\n",
        "\n",
        "\n",
        "def get_doc(pid, mem, cpu, now):\n",
        "    return { \n",
        "        \"timestamp\": now,\n",
        "        \"cpu\": float(cpu),\n",
        "        \"mem\": float(mem),\n",
        "        \"pid\": pid\n",
        "    }\n",
        "\n",
        "\n",
        "def process_line(line):\n",
        "    sp = line.split() # Splits line into columns\n",
        "    now = datetime.now()\n",
        "    return get_doc(sp[0], sp[1], sp[2], now)\n",
        "\n",
        "\n",
        "while True:\n",
        "\n",
        "    out = subprocess.getoutput(cmd) \n",
        "    lines = out.splitlines() \n",
        "    cpu = 0\n",
        "    mem = 0\n",
        "    for x in map(process_line, out.splitlines()[1:]):\n",
        "        es.index(index=indexname, body=x) # Pushing data to elastisearch\n",
        "        cpu += x[\"cpu\"]\n",
        "        mem += x[\"mem\"]\n",
        "    es.index(index=indexname2, body={\"mem\": mem,\n",
        "                                    \"cpu\": cpu, \"timestamp\": datetime.now()})\n",
        "\n",
        "    time.sleep(1) "
      ],
      "execution_count": null,
      "outputs": []
    }
  ]
}