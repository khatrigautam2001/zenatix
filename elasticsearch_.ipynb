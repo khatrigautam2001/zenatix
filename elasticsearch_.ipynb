{
  "nbformat": 4,
  "nbformat_minor": 0,
  "metadata": {
    "colab": {
      "name": "elasticsearch_.ipynb",
      "provenance": []
    },
    "kernelspec": {
      "name": "python3",
      "display_name": "Python 3"
    },
    "language_info": {
      "name": "python"
    }
  },
  "cells": [
    {
      "cell_type": "code",
      "metadata": {
        "id": "-WN6-l-1ne7o"
      },
      "source": [
        "from datetime import date, datetime\n",
        "from elasticsearch import Elasticsearch\n",
        "import subprocess\n",
        "import time\n",
        "\n",
        "cmd = \"ps -eo pid,%mem,%cpu\"\n",
        "name1 = \"operating\"\n",
        "name2=\"operating-system\"\n",
        "es = Elasticsearch()\n",
        "\n",
        "def get_doc(pid, mem, cpu, now):\n",
        "    return { \n",
        "        \"timestamp\": now,\n",
        "        \"cpu\": float(cpu),\n",
        "        \"mem\": float(mem),\n",
        "        \"pid\": pid\n",
        "    }\n",
        "\n",
        "def lines_of_process(line):\n",
        "    sp = line.split() # Splits line into columns\n",
        "    now = datetime.now()\n",
        "    return get_doc(sp[0], sp[1], sp[2], now)\n",
        "\n",
        "while True:\n",
        "    out = subprocess.getoutput(cmd) \n",
        "    lines = out.splitlines() \n",
        "    cpu = 0\n",
        "    mem = 0\n",
        "    for x in map(lines_of_process, out.splitlines()[1:]):\n",
        "        es.index(index=name1, body=x) # Pushing data to elastisearch\n",
        "        cpu += x[\"cpu\"]\n",
        "        mem += x[\"mem\"]\n",
        "    es.index(index=name2, body={\"mem\": mem,\n",
        "                                    \"cpu\": cpu, \"timestamp\": datetime.now()})\n",
        "\n",
        "    time.sleep(1) "
      ],
      "execution_count": null,
      "outputs": []
    }
  ]
}